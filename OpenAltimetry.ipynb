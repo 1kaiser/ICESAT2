{
  "nbformat": 4,
  "nbformat_minor": 0,
  "metadata": {
    "colab": {
      "provenance": [],
      "authorship_tag": "ABX9TyPySN9ddwZlQMXSwi1EQHen",
      "include_colab_link": true
    },
    "kernelspec": {
      "name": "python3",
      "display_name": "Python 3"
    },
    "language_info": {
      "name": "python"
    }
  },
  "cells": [
    {
      "cell_type": "markdown",
      "metadata": {
        "id": "view-in-github",
        "colab_type": "text"
      },
      "source": [
        "<a href=\"https://colab.research.google.com/github/1kaiser/ICESAT2/blob/main/OpenAltimetry.ipynb\" target=\"_parent\"><img src=\"https://colab.research.google.com/assets/colab-badge.svg\" alt=\"Open In Colab\"/></a>"
      ]
    },
    {
      "cell_type": "markdown",
      "source": [
        "OpenAltimetry ICESat-2: Elevation Workflow\n",
        "Overview\n",
        "\n",
        "\n",
        "This notebook pulls data from ICESat-2 surface-specific products - ATL06, ATL07, ATL08, ATL10, ATL12, ATL13 via the OpenAltimetry API.\n",
        "\n",
        "\n",
        "Instructions\n",
        "Replace the \"OA_API_URL\" string with the data copied from : \"Copy API URL\" from the OpenAltimetry elevation chart and start visualizing your data!\n",
        "Author: Minh Phan - mnphan@ucsd.edu. Based off the work of Luis Lopez - luis.lopez@nsidc.org"
      ],
      "metadata": {
        "id": "NsiwZBjN3RXl"
      }
    },
    {
      "cell_type": "markdown",
      "source": [
        "## get all the **ICESAT-2** tracks in the region of interest"
      ],
      "metadata": {
        "id": "cE1luxMi-E5l"
      }
    },
    {
      "cell_type": "code",
      "source": [
        "import requests\n",
        "import json\n",
        "\n",
        "# Bounding box coordinates\n",
        "left   = 75.7402\n",
        "right  = 78.0225\n",
        "bottom = 31.0597\n",
        "top    = 32.7295\n",
        "\n",
        "#function to get tracks \n",
        "def getData(url):\n",
        "    series = []\n",
        "    b_url = url\n",
        "\n",
        "    print('Requesting data from OA >>> ',b_url)\n",
        "    r = requests.get(b_url)\n",
        "    data = r.json()\n",
        "    return data\n",
        "\n",
        "url = 'https://openaltimetry.org/data/api/icesat2/getTracks?minx='+str(left)+'&miny='+str(bottom)+'&maxx='+str(right)+'&maxy='+str(top)+'&outputFormat=json'\n",
        "getData(url)"
      ],
      "metadata": {
        "id": "IA2DhPVx9YKT"
      },
      "execution_count": null,
      "outputs": []
    },
    {
      "cell_type": "markdown",
      "source": [
        "#**ALT06 LAND ICE ELEVATION**"
      ],
      "metadata": {
        "id": "C3VmPt218NGj"
      }
    },
    {
      "cell_type": "code",
      "source": [
        "import json\n",
        "import requests\n",
        "\n",
        "# Bounding box coordinates\n",
        "left   = 75.979728\n",
        "right  = 77.866667\n",
        "bottom = 31.453599\n",
        "top    = 32.416667\n",
        "\n",
        "date = '2019-10-26'\n",
        "trackid = 447\n",
        "\n",
        "\n",
        "OA_API_URL = 'https://openaltimetry.org/data/api/icesat2/atl06?date='+date+'&minx='+str(left)+'&miny='+str(bottom)+'&maxx='+str(right)+'&maxy='+str(top)+'&trackId='+str(trackid)+'&beamName=gt3r&beamName=gt3l&beamName=gt2r&beamName=gt2l&beamName=gt1r&beamName=gt1l&outputFormat=json'\n",
        "\n",
        "OA_API_URL += '&client=jupyter';\n",
        "\n",
        "print(OA_API_URL)\n",
        "\n",
        "r = requests.get(OA_API_URL)\n",
        "data = r.json()\n"
      ],
      "metadata": {
        "id": "Hm8GjOhUfGY3"
      },
      "execution_count": null,
      "outputs": []
    },
    {
      "cell_type": "code",
      "source": [
        "data"
      ],
      "metadata": {
        "id": "gMhI-lIKg-lI"
      },
      "execution_count": null,
      "outputs": []
    },
    {
      "cell_type": "markdown",
      "source": [
        "**[dates and track id google sheet](https://docs.google.com/spreadsheets/d/13sjRCD2E2oyjkJwXOxeu5P3V6Ql9nW0KZe1gnsPFNOM/edit?usp=sharing)**\n",
        "\n",
        "\n",
        "![image](https://user-images.githubusercontent.com/26379748/227423479-8e35d0da-3617-4c01-bf77-8074ebeb14e2.png)\n"
      ],
      "metadata": {
        "id": "wQmZanB03kSR"
      }
    },
    {
      "cell_type": "code",
      "source": [
        "a = [[\"2019-02-24\",889],]"
      ],
      "metadata": {
        "id": "row18Kzf3Cp9"
      },
      "execution_count": null,
      "outputs": []
    },
    {
      "cell_type": "code",
      "source": [
        "len(a)"
      ],
      "metadata": {
        "id": "hDCR8vIB4njg"
      },
      "execution_count": null,
      "outputs": []
    },
    {
      "cell_type": "code",
      "source": [
        "import pandas as pd\n",
        "import json\n",
        "import requests\n",
        "import plotly.graph_objects as go\n",
        "from plotly.offline import iplot\n",
        "from pathlib import Path  \n",
        "\n",
        "\n",
        "\n",
        "filepath = Path('889_FEB_2020.csv')  \n",
        "filepath.parent.mkdir(parents=True, exist_ok=True)  \n",
        "\n",
        "# Bounding box coordinates\n",
        "left   = 75.979728\n",
        "right  = 77.866667\n",
        "bottom = 31.453599\n",
        "top    = 32.416667\n",
        "\n",
        "date = '2019-10-26'\n",
        "trackid = 447\n",
        "\n",
        "# We populate a list with the elevation data using the OpenAltimetry API\n",
        "OA_API_URL = 'https://openaltimetry.org/data/api/icesat2/atl06?date='+date+'&minx='+str(left)+'&miny='+str(bottom)+'&maxx='+str(right)+'&maxy='+str(top)+'&trackId='+str(trackid)+'&beamName=gt3r&beamName=gt3l&beamName=gt2r&beamName=gt2l&beamName=gt1r&beamName=gt1l&outputFormat=json'\n",
        "\n",
        "OA_API_URL += '&client=jupyter';\n",
        "\n",
        "OA_BEAMS = ['gt1r', 'gt1l', 'gt2r', 'gt2l', 'gt3r', 'gt3l']\n",
        "\n",
        "df_beams = []\n",
        "oa_plots = []\n",
        "complete_dataset = []\n",
        "# This function will request the 6 tracks using OpenAltimetry's API\n",
        "def getData(url):\n",
        "    series = []\n",
        "    b_url = url\n",
        "\n",
        "    print('Requesting data from OA >>> ',b_url)\n",
        "    r = requests.get(b_url)\n",
        "    data = r.json()\n",
        "    return data\n",
        "\n",
        "\n",
        "b =[]\n",
        "for i in range(len(a)):\n",
        "  OA_API_URL = 'https://openaltimetry.org/data/api/icesat2/atl06?date='+a[i][0]+'&minx='+str(left)+'&miny='+str(bottom)+'&maxx='+str(right)+'&maxy='+str(top)+'&trackId='+str(a[i][1])+'&beamName=gt3r&beamName=gt3l&beamName=gt2r&beamName=gt2l&beamName=gt1r&beamName=gt1l&outputFormat=json'\n",
        "  OA_API_URL += '&client=jupyter';\n",
        "  b.append(getData(OA_API_URL))\n",
        "\n",
        "for elevation_data in b:\n",
        "  product = elevation_data[\"product\"]\n",
        "\n",
        "  print('Reading data product: ' + product)\n",
        "\n",
        "  for series_beam in elevation_data['series']:\n",
        "      if any(word in series_beam['beam'] for word in OA_BEAMS):\n",
        "          series = []\n",
        "          \n",
        "          data_name = 'lat_lon_elev'\n",
        "          if product == 'ATL08':\n",
        "              data_name = 'lat_lon_elev_canopy'\n",
        "\n",
        "          for p in series_beam[data_name]:\n",
        "              series.append({\n",
        "                  'lat': p[0],\n",
        "                  'lon': p[1],\n",
        "                  'h': p[2]\n",
        "              })\n",
        "              \n",
        "          print ('beam ' + series_beam['beam'] + ' - len = ' + str(len(series)))\n",
        "\n",
        "          if (len(series) > 0):\n",
        "              df = pd.DataFrame.from_dict(series)\n",
        "              df.name = series_beam['beam']\n",
        "              df_beams.append(df)\n",
        "\n",
        "\n",
        " \n",
        "              \n",
        "  print('df_beams len: ' + str(len(df_beams)))\n",
        "\n",
        "# <<<<SAVING TO .csv FILE>>>>\n",
        "pd.concat(df_beams).to_csv(filepath)\n",
        "\n",
        "for df in df_beams:\n",
        "    oa_plots.append(go.Scatter3d(name=df.name, x=df['lat'], y=df['lon'], z=df['h'],\n",
        "                                    marker=dict(\n",
        "                                        size=2,\n",
        "                                        color=df['h'],\n",
        "                                        colorscale='Viridis',   # choose a colorscale\n",
        "                                        opacity=0.8\n",
        "                                    ),\n",
        "                                    line=dict(\n",
        "                                        color='darkblue',\n",
        "                                        width=2\n",
        "                                    )\n",
        "                                )\n",
        "                   )\n",
        "\n",
        "layout = go.Layout(\n",
        "    width=1200,\n",
        "    height=600,\n",
        "    scene = dict(aspectmode = 'manual', aspectratio =dict(x=1, y=1, z=0.5),\n",
        "                 xaxis=dict(title='Latitude'), yaxis=dict(title='Longitude'), zaxis=dict(title='Elevation (m)'))\n",
        ")\n",
        "\n",
        "print('Plotting...')\n",
        "\n",
        "fig = go.Figure(data=oa_plots, layout=layout)\n",
        "\n",
        "iplot(fig)\n"
      ],
      "metadata": {
        "id": "tPUJ9UKu3KL9"
      },
      "execution_count": null,
      "outputs": []
    },
    {
      "cell_type": "code",
      "source": [
        "pd.concat(df_beams)\n"
      ],
      "metadata": {
        "id": "U4hRjdYH-ddA"
      },
      "execution_count": null,
      "outputs": []
    },
    {
      "cell_type": "markdown",
      "source": [
        "https://openaltimetry.org"
      ],
      "metadata": {
        "id": "11CgB8eoPdaF"
      }
    },
    {
      "cell_type": "code",
      "source": [
        "a = !curl -X GET \"https://openaltimetry.org/data/api/icesat2/atl06?date=2019-10-26&minx=75.979728&miny=31.453599&maxx=77.866667&maxy=32.416667&trackId=447&client=portal&outputFormat=json\" -H \"accept: */*\""
      ],
      "metadata": {
        "id": "2glB5CctPZNj"
      },
      "execution_count": null,
      "outputs": []
    },
    {
      "cell_type": "code",
      "source": [
        "a"
      ],
      "metadata": {
        "id": "NjUfXXIOQh0J"
      },
      "execution_count": null,
      "outputs": []
    },
    {
      "cell_type": "code",
      "source": [
        "!wget https://openaltimetry.org/data/api/icesat2/getTracks?date=2019-10-26&minx=75.979728&miny=31.453599&maxx=77.866667&maxy=32.416667&outputFormat=json -O a.json\n"
      ],
      "metadata": {
        "id": "GbupdDUNQY4J"
      },
      "execution_count": null,
      "outputs": []
    },
    {
      "cell_type": "markdown",
      "source": [
        "**VISUALIZATION**"
      ],
      "metadata": {
        "id": "v6uB41-a5aob"
      }
    },
    {
      "cell_type": "code",
      "source": [
        "a = np.asarray([[\t\"\tA\t\"\t,\t\"\t10/23/2018\t\"\t,\t]\t,\n",
        "[\t\"\tB\t\"\t,\t\"\t10/27/2018\t\"\t,\t]\t,\n",
        "[\t\"\tC\t\"\t,\t\"\t11/6/2018\t\"\t,\t]\t,\n",
        "[\t\"\tD\t\"\t,\t\"\t11/10/2018\t\"\t,\t]\t,\n",
        "[\t\"\tE\t\"\t,\t\"\t11/14/2018\t\"\t,\t]\t,\n",
        "[\t\"\tF\t\"\t,\t\"\t11/25/2018\t\"\t,\t]\t,\n",
        "[\t\"\tG\t\"\t,\t\"\t11/29/2018\t\"\t,\t]\t,\n",
        "[\t\"\tH\t\"\t,\t\"\t12/3/2018\t\"\t,\t]\t,\n",
        "[\t\"\tI\t\"\t,\t\"\t12/5/2018\t\"\t,\t]\t,\n",
        "[\t\"\tJ\t\"\t,\t\"\t12/13/2018\t\"\t,\t]\t,\n",
        "[\t\"\tK\t\"\t,\t\"\t12/24/2018\t\"\t,\t]\t,\n",
        "[\t\"\tL\t\"\t,\t\"\t12/28/2018\t\"\t,\t]\t,\n",
        "[\t\"\tM\t\"\t,\t\"\t1/1/2019\t\"\t,\t]\t,\n",
        "[\t\"\tN\t\"\t,\t\"\t1/3/2019\t\"\t,\t]\t])"
      ],
      "metadata": {
        "id": "0zdhXSDKFC_W"
      },
      "execution_count": null,
      "outputs": []
    },
    {
      "cell_type": "code",
      "source": [
        "from numpy.core.fromnumeric import transpose\n",
        "a = transpose(a)\n",
        "a.shape"
      ],
      "metadata": {
        "id": "UMLAbc5dNzU4"
      },
      "execution_count": null,
      "outputs": []
    },
    {
      "cell_type": "code",
      "source": [
        "b = np.ones((4,10))+np.ones((4,10))\n",
        "b.shape\n",
        "b"
      ],
      "metadata": {
        "id": "qOH4ZFBkLWjx"
      },
      "execution_count": null,
      "outputs": []
    },
    {
      "cell_type": "code",
      "source": [
        "import matplotlib.pyplot as plt\n",
        "import numpy as np\n",
        "\n",
        "data1 = a\n",
        "\n",
        "colors1 = ['C{}'.format(i) for i in range(4)]\n",
        "\n",
        "lineoffsets1 = [-4, -3]\n",
        "linelengths1 = [1, 2 ]\n",
        "\n",
        "plt.eventplot(data1, colors=colors1, lineoffsets=lineoffsets1, linelengths=linelengths1)\n",
        "plt.title('Event Plot')\n",
        "plt.xlabel('Time(s)')\n",
        "plt.ylabel('Signal')"
      ],
      "metadata": {
        "id": "5tKsdTZ15ZSG"
      },
      "execution_count": null,
      "outputs": []
    },
    {
      "cell_type": "markdown",
      "source": [
        "#**ALT08 GROUND AND CANOPY HEIGHT**"
      ],
      "metadata": {
        "id": "haWencvR8TnW"
      }
    },
    {
      "cell_type": "code",
      "source": [
        "import json\n",
        "import requests\n",
        "\n",
        "# Bounding box coordinates\n",
        "left   = 77.301555\n",
        "right  = 77.637165\n",
        "bottom = 31.779603\n",
        "top    = 32.041187\n",
        "\n",
        "date = '2019-02-24'\n",
        "trackid = 889\n",
        "\n",
        "\n",
        "OA_API_URL = 'https://openaltimetry.org/data/api/icesat2/atl08?date='+date+'&minx='+str(left)+'&miny='+str(bottom)+'&maxx='+str(right)+'&maxy='+str(top)+'&trackId='+str(trackid)+'&beamName=gt3r&beamName=gt3l&beamName=gt2r&beamName=gt2l&beamName=gt1r&beamName=gt1l&outputFormat=json'\n",
        "\n",
        "OA_API_URL += '&client=jupyter';\n",
        "\n",
        "print(OA_API_URL)\n",
        "\n",
        "r = requests.get(OA_API_URL)\n",
        "data = r.json()\n"
      ],
      "metadata": {
        "id": "ZxtQOrVg8jQx"
      },
      "execution_count": null,
      "outputs": []
    },
    {
      "cell_type": "code",
      "source": [
        "data"
      ],
      "metadata": {
        "id": "gz7yOzyK8jQy"
      },
      "execution_count": null,
      "outputs": []
    },
    {
      "cell_type": "code",
      "source": [
        "a = [[\"2019-05-26\",889],]"
      ],
      "metadata": {
        "id": "hmVbG4IR8jQy"
      },
      "execution_count": null,
      "outputs": []
    },
    {
      "cell_type": "code",
      "source": [
        "import pandas as pd\n",
        "import json\n",
        "import requests\n",
        "import plotly.graph_objects as go\n",
        "from plotly.offline import iplot\n",
        "from pathlib import Path  \n",
        "\n",
        "filepath = Path('889MAYALT08_2019_MS.csv')  \n",
        "filepath.parent.mkdir(parents=True, exist_ok=True)  \n",
        "\n",
        "# Bounding box coordinates\n",
        "left   = 77.301555\n",
        "right  = 77.637165\n",
        "bottom = 31.779603\n",
        "top    = 32.041187\n",
        "\n",
        "\n",
        "date = '2019-10-26'\n",
        "trackid = 447\n",
        "\n",
        "# We populate a list with the elevation data using the OpenAltimetry API\n",
        "OA_API_URL = 'https://openaltimetry.org/data/api/icesat2/atl08?date='+date+'&minx='+str(left)+'&miny='+str(bottom)+'&maxx='+str(right)+'&maxy='+str(top)+'&trackId='+str(trackid)+'&beamName=gt3r&beamName=gt3l&beamName=gt2r&beamName=gt2l&beamName=gt1r&beamName=gt1l&outputFormat=json'\n",
        "\n",
        "OA_API_URL += '&client=jupyter';\n",
        "\n",
        "OA_BEAMS = ['gt1r', 'gt1l', 'gt2r', 'gt2l', 'gt3r', 'gt3l']\n",
        "\n",
        "df_beams = []\n",
        "oa_plots = []\n",
        "complete_dataset = []\n",
        "# This function will request the 6 tracks using OpenAltimetry's API\n",
        "def getData(url):\n",
        "    series = []\n",
        "    b_url = url\n",
        "\n",
        "    print('Requesting data from OA >>> ',b_url)\n",
        "    r = requests.get(b_url)\n",
        "    data = r.json()\n",
        "    return data\n",
        "\n",
        "\n",
        "b =[]\n",
        "for i in range(len(a)):\n",
        "  OA_API_URL = 'https://openaltimetry.org/data/api/icesat2/atl08?date='+a[i][0]+'&minx='+str(left)+'&miny='+str(bottom)+'&maxx='+str(right)+'&maxy='+str(top)+'&trackId='+str(a[i][1])+'&beamName=gt3r&beamName=gt3l&beamName=gt2r&beamName=gt2l&beamName=gt1r&beamName=gt1l&outputFormat=json'\n",
        "  OA_API_URL += '&client=jupyter';\n",
        "  b.append(getData(OA_API_URL))\n",
        "\n",
        "for elevation_data in b:\n",
        "  product = elevation_data[\"product\"]\n",
        "\n",
        "  print('Reading data product: ' + product)\n",
        "\n",
        "  for series_beam in elevation_data['series']:\n",
        "      if any(word in series_beam['beam'] for word in OA_BEAMS):\n",
        "          series = []\n",
        "          \n",
        "          data_name = 'lat_lon_elev'\n",
        "          if product == 'ATL08':\n",
        "              data_name = 'lat_lon_elev_canopy'\n",
        "\n",
        "          for p in series_beam[data_name]:\n",
        "              series.append({\n",
        "                  'lat': p[0],\n",
        "                  'lon': p[1],\n",
        "                  'h': p[2],\n",
        "                  'Canopy': p[3]\n",
        "              })\n",
        "              \n",
        "          print ('beam ' + series_beam['beam'] + ' - len = ' + str(len(series)))\n",
        "\n",
        "          if (len(series) > 0):\n",
        "              df = pd.DataFrame.from_dict(series)\n",
        "              df.name = series_beam['beam']\n",
        "              df_beams.append(df)\n",
        "\n",
        "\n",
        " \n",
        "              \n",
        "  print('df_beams len: ' + str(len(df_beams)))\n",
        "\n",
        "# <<<<SAVING TO .csv FILE>>>>\n",
        "pd.concat(df_beams).to_csv(filepath)\n",
        "\n",
        "for df in df_beams:\n",
        "    oa_plots.append(go.Scatter3d(name=df.name, x=df['lat'], y=df['lon'], z=df['h'],\n",
        "                                    marker=dict(\n",
        "                                        size=2,\n",
        "                                        color=df['h'],\n",
        "                                        colorscale='Viridis',   # choose a colorscale\n",
        "                                        opacity=0.8\n",
        "                                    ),\n",
        "                                    line=dict(\n",
        "                                        color='darkblue',\n",
        "                                        width=2\n",
        "                                    )\n",
        "                                )\n",
        "                   )\n",
        "\n",
        "layout = go.Layout(\n",
        "    width=1200,\n",
        "    height=600,\n",
        "    scene = dict(aspectmode = 'manual', aspectratio =dict(x=1, y=1, z=0.5),\n",
        "                 xaxis=dict(title='Latitude'), yaxis=dict(title='Longitude'), zaxis=dict(title='Elevation (m)'))\n",
        ")\n",
        "\n",
        "print('Plotting...')\n",
        "\n",
        "fig = go.Figure(data=oa_plots, layout=layout)\n",
        "\n",
        "iplot(fig)\n"
      ],
      "metadata": {
        "id": "VJX-BzWU8jQy"
      },
      "execution_count": null,
      "outputs": []
    },
    {
      "cell_type": "code",
      "source": [],
      "metadata": {
        "id": "33Yr0m8EKVGJ"
      },
      "execution_count": null,
      "outputs": []
    },
    {
      "cell_type": "markdown",
      "source": [
        "#**ALT03 RAW DATA**"
      ],
      "metadata": {
        "id": "Y6m_ztXwKVhR"
      }
    },
    {
      "cell_type": "code",
      "source": [
        "import json\n",
        "import requests\n",
        "\n",
        "# Bounding box coordinates\n",
        "left   = 77.301555\n",
        "right  = 77.637165\n",
        "bottom = 31.779603\n",
        "top    = 32.041187\n",
        "\n",
        "date = '2019-02-24'\n",
        "trackid = 889\n",
        "\n",
        "\n",
        "OA_API_URL = 'https://openaltimetry.org/data/api/icesat2/atl03?date='+date+'&minx='+str(left)+'&miny='+str(bottom)+'&maxx='+str(right)+'&maxy='+str(top)+'&trackId='+str(trackid)+'&beamName=gt3r&beamName=gt3l&beamName=gt2r&beamName=gt2l&beamName=gt1r&beamName=gt1l&sampling=true&outputFormat=json'\n",
        "\n",
        "OA_API_URL += '&client=jupyter';\n",
        "\n",
        "print(OA_API_URL)\n",
        "\n",
        "r = requests.get(OA_API_URL)\n",
        "data = r.json()\n"
      ],
      "metadata": {
        "id": "_nkDG-HdKVhS"
      },
      "execution_count": null,
      "outputs": []
    },
    {
      "cell_type": "code",
      "source": [
        "data"
      ],
      "metadata": {
        "id": "3vp35K29KVhS"
      },
      "execution_count": null,
      "outputs": []
    },
    {
      "cell_type": "code",
      "source": [
        "a = [[\"2019-01-07\",150],]"
      ],
      "metadata": {
        "id": "MKeOsbhrKVhS"
      },
      "execution_count": null,
      "outputs": []
    },
    {
      "cell_type": "code",
      "source": [
        "import pandas as pd\n",
        "import json\n",
        "import requests\n",
        "import plotly.graph_objects as go\n",
        "from plotly.offline import iplot\n",
        "from pathlib import Path  \n",
        "\n",
        "filepath = Path('ALT03_2019_FEB.csv')  \n",
        "filepath.parent.mkdir(parents=True, exist_ok=True)  \n",
        "\n",
        "# Bounding box coordinates\n",
        "left   = 76.88\n",
        "right  = 77.65\n",
        "bottom = 31.66\n",
        "top    = 32.12\n",
        "\n",
        "date = '2019-05-26'\n",
        "trackid = 889\n",
        "\n",
        "# We populate a list with the elevation data using the OpenAltimetry API\n",
        "OA_API_URL = 'https://openaltimetry.org/data/api/icesat2/atl03?date='+date+'&minx='+str(left)+'&miny='+str(bottom)+'&maxx='+str(right)+'&maxy='+str(top)+'&trackId='+str(trackid)+'&beamName=gt3r&beamName=gt3l&beamName=gt2r&beamName=gt2l&beamName=gt1r&beamName=gt1l&sampling=true&outputFormat=json'\n",
        "\n",
        "OA_API_URL += '&client=jupyter';\n",
        "\n",
        "\n",
        "df_beams = []\n",
        "oa_plots = []\n",
        "complete_dataset = []\n",
        "# This function will request the 6 tracks using OpenAltimetry's API\n",
        "def getData(url):\n",
        "    series = []\n",
        "    b_url = url\n",
        "\n",
        "    print('Requesting data from OA >>> ',b_url)\n",
        "    r = requests.get(b_url)\n",
        "    data = r.json()\n",
        "    return data\n",
        "\n",
        "\n",
        "b =[]\n",
        "for i in range(len(a)):\n",
        "  OA_API_URL = 'https://openaltimetry.org/data/api/icesat2/atl03?date='+a[i][0]+'&minx='+str(left)+'&miny='+str(bottom)+'&maxx='+str(right)+'&maxy='+str(top)+'&trackId='+str(a[i][1])+'&beamName=gt3r&beamName=gt3l&beamName=gt2r&beamName=gt2l&beamName=gt1r&beamName=gt1l&sampling=false&outputFormat=json'\n",
        "  OA_API_URL += '&client=jupyter';\n",
        "  b.append(getData(OA_API_URL))\n",
        "\n",
        "OA_BEAMS = ['Noise', 'Buffer', 'Low', 'Medium', 'High']\n",
        "df_beams = []\n",
        "\n",
        "for elevation_data in b[0]:\n",
        "  product = elevation_data['beam_name']\n",
        "\n",
        "  print('\\n Reading data product: ' + product)\n",
        "  for series_beam in elevation_data['series']:\n",
        "    if any(word in series_beam['name'] for word in OA_BEAMS):\n",
        "      series = []\n",
        "      \n",
        "      data_name = 'data'\n",
        "\n",
        "      for p in series_beam[data_name]:\n",
        "          series.append({\n",
        "              'lat': p[0],\n",
        "              'lon': p[1],\n",
        "              'h': p[2]\n",
        "          })\n",
        "          \n",
        "      print ('beam ' + series_beam['name'] + ' - len = ' + str(len(series)))\n",
        "\n",
        "      if (len(series) > 0):\n",
        "          df = pd.DataFrame.from_dict(series)\n",
        "          print(len(df))\n",
        "          df = df[(df.lon >= left) & (df.lon <= right) & (df.lat >= bottom) & (df.lat <= top)]\n",
        "          print(len(df))\n",
        "          df.name = series_beam['name']\n",
        "          df_beams.append(df) \n",
        "              \n",
        "  print('df_beams len: ' + str(len(df_beams)))\n",
        "\n",
        "# <<<<SAVING TO .csv FILE>>>>\n",
        "pd.concat(df_beams).to_csv(filepath)\n",
        "\n",
        "# for df in df_beams:\n",
        "#     oa_plots.append(go.Scatter3d(name=df.name, x=df['lat'], y=df['lon'], z=df['h'],\n",
        "#                                     marker=dict(\n",
        "#                                         size=2,\n",
        "#                                         color=df['h'],\n",
        "#                                         colorscale='Viridis',   # choose a colorscale\n",
        "#                                         opacity=0.8\n",
        "#                                     ),\n",
        "#                                     line=dict(\n",
        "#                                         color='darkblue',\n",
        "#                                         width=2\n",
        "#                                     )\n",
        "#                                 )\n",
        "#                    )\n",
        "\n",
        "# layout = go.Layout(\n",
        "#     width=1200,\n",
        "#     height=600,\n",
        "#     scene = dict(aspectmode = 'manual', aspectratio =dict(x=1, y=1, z=0.5),\n",
        "#                  xaxis=dict(title='Latitude'), yaxis=dict(title='Longitude'), zaxis=dict(title='Elevation (m)'))\n",
        "# )\n",
        "\n",
        "# print('Plotting...')\n",
        "\n",
        "# fig = go.Figure(data=oa_plots, layout=layout)\n",
        "\n",
        "# iplot(fig)\n"
      ],
      "metadata": {
        "id": "MrXH3dEHKVhS"
      },
      "execution_count": null,
      "outputs": []
    },
    {
      "cell_type": "code",
      "source": [
        "print(df_beams)\n",
        "del df_beams"
      ],
      "metadata": {
        "id": "igy37nh6IAwa"
      },
      "execution_count": null,
      "outputs": []
    },
    {
      "cell_type": "code",
      "source": [
        "elevation_data[0]['beam_name']"
      ],
      "metadata": {
        "id": "GXhEHjstOImf"
      },
      "execution_count": null,
      "outputs": []
    },
    {
      "cell_type": "markdown",
      "source": [
        "## new test for visualization  [Colab link](https://colab.research.google.com/drive/11BiECdk51MzG5oJIkOT5zexMaL1NRQet)\n",
        "\n",
        "### *Python programming for Google Earth Engine*\n",
        "# **OpenAltimetry and Google Earth Engine**\n",
        "\n",
        "## OBJECTIVES\n",
        "- Load ICESat-2 data using the OpenAltimetry API.\n",
        "- Query Google Earth Engine for geospatial raster data and display it along with ICESat-2 ground tracks on an interactive map.\n",
        "- Better understand what you are looking at in ATL03 features without downloading a bunch of files.\n",
        "\n",
        "## CREDITS\n",
        "- This tutorial is originally credited by Wei Ji Leong, Scott Henderson, and Philipp Arndt.\n",
        "- This tutorial was the part of 2022 ICESat-2 Hackweek [ICESat-2 Hackweek](https://icesat-2.hackweek.io/), and modified by YoungHyun Koo for the UTSA Remote Sensing Image Processing course.\n",
        "- Original Python script: [Interactive Visualizion with Open Altimetry & Google Earth Engine](https://github.com/ICESAT-2HackWeek/website2022/blob/main/book/tutorials/DataVisualization/Visualization_Earth_Engine_geemap_IS2_HW_2022.ipynb) and [OpenAltimery and GEE Use Examples](https://github.com/ICESAT-2HackWeek/website2022/blob/main/book/tutorials/DataVisualization/Visualization_geemap_use_examples.ipynb).\n",
        "- More information about ICESat-2 Hackweek: [ICESat-2 Hackweek GitHub](https://github.com/ICESAT-2HackWeek/website2022)"
      ],
      "metadata": {
        "id": "AZoTdI3pt3_F"
      }
    },
    {
      "cell_type": "code",
      "source": [
        "!pip install patchworklib"
      ],
      "metadata": {
        "id": "7AJ0FbngJX7k"
      },
      "execution_count": null,
      "outputs": []
    },
    {
      "cell_type": "code",
      "source": [
        "#@title ICESAT-2 **[OpenAltimetry API](https://openaltimetry.org/data/icesat2/)** **dataCollector** function  \n",
        "\n",
        "import json\n",
        "import requests\n",
        "import pandas as pd\n",
        "\n",
        "import matplotlib.pylab as plt\n",
        "import numpy as np\n",
        "\n",
        "\n",
        "class dataCollector:\n",
        "    def __init__(self, beam=None, oaurl=None, track=None, date=None, latlims=None, lonlims=None, verbose=False):\n",
        "        if (beam is None) or ((oaurl is None) and (None in [track, date, latlims, lonlims])):\n",
        "            raise Exception('''Please specify a beam and \n",
        "            - either: an OpenAltimetry API url, \n",
        "            - or: a track, date, latitude limits and longitude limits.''')\n",
        "        else:\n",
        "            if oaurl is not None:\n",
        "                url = oaurl\n",
        "                tofind = '&beamName='\n",
        "                ids = url.find(tofind)\n",
        "                while ids>-1:\n",
        "                    url = url.replace(url[ids:ids+len(tofind)+4],'')\n",
        "                    ids = url.find(tofind)\n",
        "                iprod = url.find('/atl')\n",
        "                url = url.replace(url[iprod:iprod+6],'/atlXX')\n",
        "                url += tofind + beam + '&client=jupyter'\n",
        "\n",
        "                idate = url.find('date=') + len('date=')\n",
        "                date = url[idate:idate+10]\n",
        "                itrack = url.find('trackId=') + len('trackId=')\n",
        "                trackend = url[itrack:].find('&')\n",
        "                track = int(url[itrack:itrack+trackend])\n",
        "                bb = []\n",
        "                for s in ['minx=', 'maxx=', 'miny=', 'maxy=']:\n",
        "                    ids = url.find(s) + len(s)\n",
        "                    ide = url[ids:].find('&')\n",
        "                    bb.append(float(url[ids:ids+ide]))\n",
        "                lonlims = bb[:2]\n",
        "                latlims = bb[2:]\n",
        "            elif None not in [track, date, latlims, lonlims]:\n",
        "                url = 'https://openaltimetry.org/data/api/icesat2/atlXX?'\n",
        "                url += 'date={date}&minx={minx}&miny={miny}&maxx={maxx}&maxy={maxy}&trackId={track}&beamName={beam}'.format(\n",
        "                        date=date,minx=lonlims[0],miny=latlims[0],maxx=lonlims[1],maxy=latlims[1],track=track,beam=beam)\n",
        "                url += '&outputFormat=json&client=jupyter'\n",
        "            \n",
        "            self.url = url\n",
        "            self.date = date\n",
        "            self.track = track\n",
        "            self.beam = beam\n",
        "            self.latlims = latlims\n",
        "            self.lonlims = lonlims\n",
        "            if verbose:\n",
        "                print('OpenAltimetry API URL:', self.url)\n",
        "                print('Date:', self.date)\n",
        "                print('Track:', self.track)\n",
        "                print('Beam:', self.beam)\n",
        "                print('Latitude limits:', self.latlims)\n",
        "                print('Longitude limits:', self.lonlims)\n",
        "            \n",
        "    def requestData(self, verbose=False): \n",
        "        if verbose:\n",
        "            print('---> requesting ATL03 data...',end='')\n",
        "        product = 'atl03'\n",
        "        request_url = self.url.replace('atlXX',product)\n",
        "        data = requests.get(request_url).json()\n",
        "        lat, lon, h, confs = [], [], [], []\n",
        "        for beam in data:\n",
        "            for confidence in beam['series']:\n",
        "                for p in confidence['data']:\n",
        "                    confs.append(confidence['name'])\n",
        "                    lat.append(p[0])\n",
        "                    lon.append(p[1])\n",
        "                    h.append(p[2])\n",
        "        self.atl03 = pd.DataFrame(list(zip(lat,lon,h,confs)), columns = ['lat','lon','h','conf'])\n",
        "        if verbose:\n",
        "            print(' Done.')\n",
        "            \n",
        "            print('---> requesting ATL06 data...',end='')\n",
        "        product = 'atl06'\n",
        "        request_url = self.url.replace('atlXX',product)\n",
        "        data = requests.get(request_url).json()\n",
        "        self.atl06 = pd.DataFrame(data['series'][0]['lat_lon_elev'], columns = ['lat','lon','h'])\n",
        "        if verbose:\n",
        "            print(' Done.')\n",
        "            \n",
        "            print('---> requesting ATL08 data...',end='')\n",
        "        product = 'atl08'\n",
        "        request_url = self.url.replace('atlXX',product)\n",
        "        data = requests.get(request_url).json()\n",
        "        self.atl08 = pd.DataFrame(data['series'][0]['lat_lon_elev_canopy'], columns = ['lat','lon','h','canopy'])\n",
        "        if verbose:\n",
        "            print(' Done.')\n",
        "    \n",
        "    ################################################################################################ \n",
        "    def plotData(self,ax=None,title='some Data I found on OpenAltimetry'):\n",
        "\n",
        "        # get data if not already there\n",
        "        if 'atl03' not in vars(self).keys(): \n",
        "            print('Data has not yet been requested from OpenAltimetry yet. Doing this now.')\n",
        "            self.requestData(verbose=True)\n",
        "\n",
        "        axes_not_specified = True if ax == None else False\n",
        "\n",
        "        # create the figure and axis\n",
        "        if axes_not_specified:\n",
        "            fig, ax = plt.subplots(figsize=[20,6], dpi=600)\n",
        "        atl03 = ax.scatter(self.atl03.lat, self.atl03.h, s=2, color='black', alpha=0.2, label='ATL03')\n",
        "        atl06, = ax.plot(self.atl06.lat, self.atl06.h, label='ATL06')\n",
        "        atl08, = ax.plot(self.atl08.lat, self.atl08.h, label='ATL08', linestyle='--')\n",
        "\n",
        "        heights = self.atl03.h[self.atl03.conf != 'Noise']\n",
        "        y_min = np.min(heights)\n",
        "        y_max = np.max(heights)\n",
        "        # maxprods = np.nanmax(self.atl03.h.max())\n",
        "        # minprods = np.nanmin(self.atl03.h.min())\n",
        "        # hrange = maxprods - minprods\n",
        "        # y_min2 = minprods - hrange * 0.5\n",
        "        # y_max2 = maxprods + hrange * 0.5\n",
        "        # y_min = np.nanmin((y_min1, y_min2))\n",
        "        # y_max = np.nanmax((y_max1, y_max2))\n",
        "\n",
        "        x_min = self.atl03.lat.min()\n",
        "        x_max = self.atl03.lat.max()\n",
        "\n",
        "        ax.set_xlim((self.latlims[0], self.latlims[1]))\n",
        "        if y_min == np.NaN :\n",
        "          y_min = 0\n",
        "        if y_max == np.NaN :\n",
        "          y_min = 8000\n",
        "        ax.set_ylim((-100, 6000))\n",
        "\n",
        "        # label the axes\n",
        "        ax.set_title(title)\n",
        "        ax.set_xlabel('latitude')\n",
        "        ax.set_ylabel('elevation in meters')\n",
        "\n",
        "        # add a legend\n",
        "        ax.legend(loc='lower right')\n",
        "\n",
        "        # add some text to provide info on what is plotted\n",
        "        info = 'ICESat-2 track {track:d}-{beam:s} on {date:s}\\n({lon:.4f}E, {lat:.4f}N)'.format(track=self.track, \n",
        "                                                                                                beam=self.beam, \n",
        "                                                                                                date=self.date, \n",
        "                                                                                                lon=np.mean(self.lonlims), \n",
        "                                                                                                lat=np.mean(self.latlims))\n",
        "        \n",
        "        infotext = ax.text(0.03, 0.03, info,\n",
        "                           horizontalalignment='left', \n",
        "                           verticalalignment='bottom', \n",
        "                           transform=ax.transAxes,\n",
        "                           fontsize=10,\n",
        "                           bbox=dict(edgecolor=None, facecolor='white', alpha=0.9, linewidth=0))\n",
        "\n",
        "        if axes_not_specified:\n",
        "            fig.tight_layout()\n",
        "            return fig\n",
        "        else:\n",
        "            return ax\n",
        "\n",
        "def plot_from_oa_url(url,gtx,ax=None,title='ICESat-2 Data'):\n",
        "    mydata = dataCollector(oaurl=url, beam=gtx, verbose=True)\n",
        "    mydata.requestData(verbose=True)\n",
        "    myplot = mydata.plotData(ax,title=title)\n",
        "    return (myplot, mydata)"
      ],
      "metadata": {
        "id": "6_7aV6o6t7tY"
      },
      "execution_count": null,
      "outputs": []
    },
    {
      "cell_type": "markdown",
      "source": [
        "**Downloading🔻 >>**"
      ],
      "metadata": {
        "id": "eiRIzJvAXsKt"
      }
    },
    {
      "cell_type": "code",
      "source": [
        "from multiprocessing import cpu_count\n",
        "from multiprocessing.pool import ThreadPool\n",
        "import requests\n",
        "import time\n",
        "\n",
        "# Bounding box coordinates\n",
        "left   = 76.88\n",
        "right  = 77.65\n",
        "bottom = 31.66\n",
        "top    = 32.12\n",
        "\n",
        "dates = [\n",
        "[\"2019-01-07\",150],\n",
        "[\"2019-04-08\",150],\n",
        "[\"2019-10-06\",150],\n",
        "        ]\n",
        "\n",
        "signals = ['gt3r', 'gt3l', 'gt2r', 'gt2l', 'gt1r', 'gt1l']\n",
        "\n",
        "link_list = []\n",
        "data_storage = [0]* len(dates) * len(signals)\n",
        "for date in dates:\n",
        "  print(date)\n",
        "  OA_API_URL = 'https://openaltimetry.org/data/api/icesat2/atl03?date='+date[0]+'&minx='+str(left)+'&miny='+str(bottom)+'&maxx='+str(right)+'&maxy='+str(top)+'&trackId='+str(date[1])+'&beamName=gt3r&beamName=gt3l&beamName=gt2r&beamName=gt2l&beamName=gt1r&beamName=gt1l&outputFormat=json'\n",
        "  link_list.append(OA_API_URL)\n",
        "\n",
        "def download_url(url):\n",
        "  for i in signals:\n",
        "    mydata = dataCollector(oaurl= url, beam= i, verbose= True)\n",
        "    mydata.requestData(verbose= True)\n",
        "    data_storage[ link_list.index(url) * len(signals) + signals.index(i) ] = mydata\n",
        "\n",
        "def download_parallel(args):\n",
        "  cpus = cpu_count()\n",
        "  results = ThreadPool(40).imap_unordered(download_url, args)\n",
        "  for result in results:\n",
        "        print('🔻complete🔻', result)\n",
        "\n",
        "t0 = time.time()\n",
        "download_parallel(link_list) # 🔻🔻🔻🔻🔻EXECUTING PARALLEL THREADS🔻🔻🔻🔻🔻#\n",
        "\n",
        "from google.colab import output\n",
        "output.clear()\n",
        "print(time.time() - t0,\" << seconds completion time ✅ \")\n",
        "\n",
        "# fig, aox = plt.subplots(nrows= len(signals), ncols= len(dates), figsize=[20*len(dates),20])\n",
        "# for date in dates:\n",
        "#   for i in signals:\n",
        "#     data_storage[ dates.index(date) * len(signals) + signals.index(i) ].plotData( ax= aox[signals.index(i),dates.index(date)], title= 'Directly mapping')"
      ],
      "metadata": {
        "id": "oYfH3fVtAdz5"
      },
      "execution_count": null,
      "outputs": []
    },
    {
      "cell_type": "markdown",
      "source": [
        "**plotting 📈📊📉>>>**"
      ],
      "metadata": {
        "id": "N_qAi9N9XoXM"
      }
    },
    {
      "cell_type": "code",
      "source": [
        "fig, aox = plt.subplots(nrows= len(signals), ncols= len(dates), figsize=[20*len(dates),30], dpi = 200)\n",
        "for date in dates:\n",
        "  for i in signals:\n",
        "    data_storage[ dates.index(date) * len(signals) + signals.index(i) ].plotData( ax= aox[signals.index(i),dates.index(date)], title= 'Directly mapping')"
      ],
      "metadata": {
        "id": "Q3HKrCSIXnlV"
      },
      "execution_count": null,
      "outputs": []
    },
    {
      "cell_type": "code",
      "source": [
        "!wget https://github.com/1kaiser/ICESAT2/releases/download/1/ASTER_DEM.tif"
      ],
      "metadata": {
        "id": "UvwE59xMl5ia"
      },
      "execution_count": null,
      "outputs": []
    },
    {
      "cell_type": "code",
      "source": [
        "!pip install rasterio"
      ],
      "metadata": {
        "id": "YWbNchVNnrg5"
      },
      "execution_count": null,
      "outputs": []
    },
    {
      "cell_type": "code",
      "source": [
        "import os\n",
        "\n",
        "# Set the path to the folder containing the CSV files\n",
        "folder_path = '/content/ALT03_2019_FEB'\n",
        "\n",
        "# List all the CSV files in the folder\n",
        "csv_files = [f for f in os.listdir(folder_path) if f.endswith('.csv')]\n",
        "\n",
        "# Loop through each file and plot the data\n",
        "for csv_file in csv_files:\n",
        "    # Read the CSV file\n",
        "    df = pd.read_csv(os.path.join(folder_path, csv_file))\n",
        "    \n",
        "    # Extract the lat/long values\n",
        "    lats = df['lat'].tolist()\n",
        "    longs = df['lon'].tolist()\n",
        "\n",
        "    # Define the coordinate reference systems for lat/long and UTM\n",
        "    in_proj = Proj('epsg:4326')  # WGS84 lat/long\n",
        "    out_proj = Proj('epsg:32644')  # UTM zone 44N\n",
        "\n",
        "    # Convert lat/long coordinates to UTM coordinates (easting, northing)\n",
        "    easting, northing = transform(in_proj, out_proj, df['lon'], df['lat'])\n",
        "\n",
        "    # Load the DEM data\n",
        "    with rasterio.open('/content/ASTER_DEM.tif') as src:\n",
        "        # Extract the elevation values along the section\n",
        "        elevations = [x[0] for x in src.sample(zip(df['lon'], df['lat']))]\n",
        "\n",
        "    # Create a plot of elevation vs distance\n",
        "    fig, ax = plt.subplots()\n",
        "    ax.scatter(easting, elevations, s=5)\n",
        "    ax.set_xlabel('Distance (m)')\n",
        "    ax.set_ylabel('Elevation (m)')\n",
        "    ax.set_title('Elevation Profile')\n",
        "    ax.set_aspect('equal')  # Set aspect ratio to 1:1\n",
        "\n",
        "    plt.show()\n"
      ],
      "metadata": {
        "id": "3GAXDiwwxO9B"
      },
      "execution_count": null,
      "outputs": []
    },
    {
      "cell_type": "markdown",
      "source": [
        "same code"
      ],
      "metadata": {
        "id": "q6E5cNbCt8Mj"
      }
    },
    {
      "cell_type": "code",
      "source": [
        "import pandas as pd\n",
        "import rasterio\n",
        "import matplotlib.pyplot as plt\n",
        "from pyproj import Proj, transform\n",
        "\n",
        "# Read the CSV file\n",
        "df = pd.read_csv('/content/ALT03_2019_FEB/gt1l.csv')\n",
        "\n",
        "# Define the coordinate reference systems for lat/long and UTM\n",
        "in_proj = Proj('epsg:4326')  # WGS84 lat/long\n",
        "out_proj = Proj('epsg:32644')  # UTM zone 44N\n",
        "\n",
        "# Convert lat/long coordinates to UTM coordinates (easting, northing)\n",
        "easting, northing = transform(in_proj, out_proj, df['lon'], df['lat'])\n",
        "\n",
        "# Load the DEM data\n",
        "with rasterio.open('/content/ASTER_DEM.tif') as src:\n",
        "    # Extract the elevation values along the section\n",
        "    elevations = [x[0] for x in src.sample(zip(df['lon'], df['lat']))]\n",
        "\n",
        "# Create a plot of elevation vs distance\n",
        "fig, ax = plt.subplots()\n",
        "ax.scatter(easting, elevations, s=5)\n",
        "ax.set_xlabel('Distance (m)')\n",
        "ax.set_ylabel('Elevation (m)')\n",
        "ax.set_title('Elevation Profile')\n",
        "\n",
        "# Set the same scale for both x and y axes\n",
        "ax.set_aspect('equal')\n",
        "\n",
        "plt.show()\n"
      ],
      "metadata": {
        "id": "PN1_i8yMt7Qm"
      },
      "execution_count": null,
      "outputs": []
    },
    {
      "cell_type": "markdown",
      "source": [
        "**same code**"
      ],
      "metadata": {
        "id": "TZnrPTjKt5P2"
      }
    },
    {
      "cell_type": "code",
      "source": [
        "import pandas as pd\n",
        "import rasterio\n",
        "import matplotlib.pyplot as plt\n",
        "from geopy.distance import distance\n",
        "\n",
        "# Read the CSV file\n",
        "df = pd.read_csv('/content/ALT03_2019_FEB/gt1l.csv')\n",
        "\n",
        "# Extract the lat/long values\n",
        "lats = df['lat'].tolist()\n",
        "longs = df['lon'].tolist()\n",
        "\n",
        "# Calculate distances in meters from the first point\n",
        "origin = (lats[0], longs[0])\n",
        "distances = [distance(origin, (lat, long)).m for lat, long in zip(lats, longs)]\n",
        "\n",
        "# Load the DEM data\n",
        "with rasterio.open('/content/ASTER_DEM.tif') as src:\n",
        "    # Extract the elevation values along the section\n",
        "    elevations = [x[0] for x in src.sample(zip(longs, lats))]\n",
        "\n",
        "# Create a figure with two subplots side by side\n",
        "fig, axs = plt.subplots(1, 2, figsize=(10, 5), sharey=True)\n",
        "\n",
        "# Plot elevation vs distance in the left subplot\n",
        "axs[0].scatter(distances, elevations)\n",
        "axs[0].set_xlabel('Distance (m)')\n",
        "axs[0].set_ylabel('Elevation')\n",
        "\n",
        "# Plot elevation vs distance in the right subplot\n",
        "axs[1].scatter(distances, elevations)\n",
        "axs[1].set_xlabel('Distance (m)')\n",
        "# axs[1].set_ylabel('Elevation')\n",
        "\n",
        "# Show the plot\n",
        "plt.subplots_adjust(wspace=0, hspace=0.05)\n",
        "plt.show()\n"
      ],
      "metadata": {
        "id": "eQmkrGbPsM5m"
      },
      "execution_count": null,
      "outputs": []
    },
    {
      "cell_type": "code",
      "source": [
        "import pandas as pd\n",
        "import rasterio\n",
        "import matplotlib.pyplot as plt\n",
        "\n",
        "# Read the CSV file\n",
        "df = pd.read_csv('/content/ALT03_2019_FEB/gt1l.csv')\n",
        "\n",
        "# Extract the lat/long values\n",
        "lats = df['lat'].tolist()\n",
        "longs = df['lon'].tolist()\n",
        "\n",
        "# Load the DEM data\n",
        "with rasterio.open('/content/ASTER_DEM.tif') as src:\n",
        "    # Extract the elevation values along the section\n",
        "    elevations = [x[0] for x in src.sample(zip(longs, lats))]\n",
        "\n",
        "# Create a plot of elevation vs longitude\n",
        "fig, ax = plt.subplots()\n",
        "ax.scatter(longs, elevations)\n",
        "ax.set_xlabel('Longitude')\n",
        "ax.set_ylabel('Elevation')\n",
        "\n",
        "# Create a plot of elevation vs latitude\n",
        "fig, ax = plt.subplots()\n",
        "ax.scatter(lats, elevations)\n",
        "ax.set_xlabel('Latitude')\n",
        "ax.set_ylabel('Elevation')\n",
        "\n",
        "plt.show()\n"
      ],
      "metadata": {
        "id": "E0a9QBVkHPkb"
      },
      "execution_count": null,
      "outputs": []
    },
    {
      "cell_type": "code",
      "source": [
        "import pandas as pd\n",
        "import rasterio\n",
        "import matplotlib.pyplot as plt\n",
        "\n",
        "# Read the CSV file\n",
        "df = pd.read_csv('/content/ALT03_2019_FEB/gt1l.csv')\n",
        "\n",
        "# Extract the lat/long values\n",
        "lats = df['lat'].tolist()\n",
        "longs = df['lon'].tolist()\n",
        "\n",
        "# Load the DEM data\n",
        "with rasterio.open('/content/ASTER_DEM.tif') as src:\n",
        "    # Extract the elevation values along the section\n",
        "    elevations = [x[0] for x in src.sample(zip(longs, lats))]\n",
        "    # print(elevations)\n",
        "# Create a plot of elevation vs longitude\n",
        "fig, ax = plt.subplots()\n",
        "ax.scatter(longs, elevations)\n",
        "ax.set_xlabel('Longitude')\n",
        "ax.set_ylabel('Elevation')\n",
        "plt.show()\n"
      ],
      "metadata": {
        "id": "rvhnRSEatgYt"
      },
      "execution_count": null,
      "outputs": []
    },
    {
      "cell_type": "code",
      "source": [
        "!pip install pyproj"
      ],
      "metadata": {
        "id": "-9pnMHJMC_v3"
      },
      "execution_count": null,
      "outputs": []
    },
    {
      "cell_type": "code",
      "source": [
        "import pandas as pd, json, requests, plotly.graph_objects as go\n",
        "from plotly.offline import iplot\n",
        "from pathlib import Path  \n",
        "\n",
        "filepath = Path('ALT03_2019_FEB.csv')\n",
        "filepath.parent.mkdir(parents=True, exist_ok=True)\n",
        "\n",
        "# Bounding box coordinates\n",
        "left, right, bottom, top = 76.88, 77.65, 31.66, 32.12\n",
        "\n",
        "a = [[\"2019-01-07\", 150]]\n",
        "\n",
        "def getData(url):\n",
        "    r = requests.get(url)\n",
        "    return r.json()\n",
        "\n",
        "b = [getData(f'https://openaltimetry.org/data/api/icesat2/atl03?date={a[i][0]}&minx={left}&miny={bottom}&maxx={right}&maxy={top}&trackId={a[i][1]}&beamName=gt3r&beamName=gt3l&beamName=gt2r&beamName=gt2l&beamName=gt1r&beamName=gt1l&sampling=false&outputFormat=json&client=jupyter') for i in range(len(a))]\n",
        "\n",
        "OA_BEAMS = ['Noise', 'Buffer', 'Low', 'Medium', 'High']\n",
        "df_beams = []\n",
        "\n",
        "for elevation_data in b[0]:\n",
        "    product = elevation_data['beam_name']\n",
        "\n",
        "    print('\\n Reading data product: ' + product)\n",
        "    for series_beam in elevation_data['series']:\n",
        "        if any(word in series_beam['name'] for word in OA_BEAMS):\n",
        "            series = []\n",
        "            data_name = 'data'\n",
        "\n",
        "            for p in series_beam[data_name]:\n",
        "                series.append({'lat': p[0], 'lon': p[1], 'h': p[2]})\n",
        "\n",
        "            print ('beam ' + series_beam['name'] + ' - len = ' + str(len(series)))\n",
        "            df = pd.DataFrame.from_dict(series)\n",
        "            df = df[(df.lon >= left) & (df.lon <= right) & (df.lat >= bottom) & (df.lat <= top)]\n",
        "            df.name = series_beam['name']\n",
        "            df_beams.append(df) \n",
        "\n",
        "    print('df_beams len: ' + str(len(df_beams)))\n",
        "\n",
        "pd.concat(df_beams).to_csv(filepath)\n"
      ],
      "metadata": {
        "id": "uP65PlV9DZVQ"
      },
      "execution_count": null,
      "outputs": []
    },
    {
      "cell_type": "markdown",
      "source": [
        "**generated code for separate csv file saving as per data product**"
      ],
      "metadata": {
        "id": "36joFRDoF4CB"
      }
    },
    {
      "cell_type": "code",
      "source": [
        "import pandas as pd\n",
        "import json\n",
        "import requests\n",
        "import plotly.graph_objects as go\n",
        "from plotly.offline import iplot\n",
        "from pathlib import Path  \n",
        "\n",
        "filepath = Path('ALT03_2019_FEB')  \n",
        "filepath.mkdir(parents=True, exist_ok=True)  \n",
        "\n",
        "# Bounding box coordinates\n",
        "left   = 76.88\n",
        "right  = 77.65\n",
        "bottom = 31.66\n",
        "top    = 32.12\n",
        "\n",
        "a = [[\"2019-01-07\",150],]\n",
        "\n",
        "df_beams = []\n",
        "oa_plots = []\n",
        "complete_dataset = []\n",
        "\n",
        "# This function will request the 6 tracks using OpenAltimetry's API\n",
        "def getData(url):\n",
        "    series = []\n",
        "    b_url = url\n",
        "\n",
        "    print('Requesting data from OA >>> ',b_url)\n",
        "    r = requests.get(b_url)\n",
        "    data = r.json()\n",
        "    return data\n",
        "\n",
        "\n",
        "b =[]\n",
        "for i in range(len(a)):\n",
        "    OA_API_URL = 'https://openaltimetry.org/data/api/icesat2/atl03?date='+a[i][0]+'&minx='+str(left)+'&miny='+str(bottom)+'&maxx='+str(right)+'&maxy='+str(top)+'&trackId='+str(a[i][1])+'&beamName=gt3r&beamName=gt3l&beamName=gt2r&beamName=gt2l&beamName=gt1r&beamName=gt1l&sampling=false&outputFormat=json'\n",
        "    OA_API_URL += '&client=jupyter';\n",
        "    b.append(getData(OA_API_URL))\n",
        "\n",
        "OA_BEAMS = ['Noise', 'Buffer', 'Low', 'Medium', 'High']\n",
        "df_beams = []\n",
        "\n",
        "for elevation_data in b[0]:\n",
        "    product = elevation_data['beam_name']\n",
        "\n",
        "    print('\\n Reading data product: ' + product)\n",
        "    for series_beam in elevation_data['series']:\n",
        "        if any(word in series_beam['name'] for word in OA_BEAMS):\n",
        "            series = []\n",
        "\n",
        "            data_name = 'data'\n",
        "\n",
        "            for p in series_beam[data_name]:\n",
        "                series.append({\n",
        "                    'lat': p[0],\n",
        "                    'lon': p[1],\n",
        "                    'h': p[2]\n",
        "                })\n",
        "\n",
        "            print ('beam ' + series_beam['name'] + ' - len = ' + str(len(series)))\n",
        "\n",
        "            if (len(series) > 0):\n",
        "                df = pd.DataFrame.from_dict(series)\n",
        "                print(len(df))\n",
        "                df = df[(df.lon >= left) & (df.lon <= right) & (df.lat >= bottom) & (df.lat <= top)]\n",
        "                print(len(df))\n",
        "                df.name = series_beam['name']\n",
        "                df_beams.append(df) \n",
        "\n",
        "    print('df_beams len: ' + str(len(df_beams)))\n",
        "\n",
        "    # Save each data product to a separate CSV file\n",
        "    for df in df_beams:\n",
        "        product_name = product.replace(' ', '_')\n",
        "        file_name = f'{filepath}/{product_name}.csv'\n",
        "        df.to_csv(file_name, index=False)\n",
        "\n",
        "# Combine all data products into a single CSV file\n",
        "pd.concat(df_beams).to_csv(f'{filepath}/all_products.csv', index=False)\n"
      ],
      "metadata": {
        "id": "opl9IkkWFmb7"
      },
      "execution_count": null,
      "outputs": []
    },
    {
      "cell_type": "markdown",
      "source": [
        "**saving by data product and signals**"
      ],
      "metadata": {
        "id": "zIbik6-fOQcf"
      }
    },
    {
      "cell_type": "code",
      "source": [
        "!rm -r /content/ALT03_2019_FEB"
      ],
      "metadata": {
        "id": "J2pWBwnROkIs"
      },
      "execution_count": null,
      "outputs": []
    },
    {
      "cell_type": "code",
      "source": [
        "import pandas as pd\n",
        "import json\n",
        "import requests\n",
        "import plotly.graph_objects as go\n",
        "from plotly.offline import iplot\n",
        "from pathlib import Path  \n",
        "\n",
        "filepath = Path('ALT03_2019_FEB')  \n",
        "filepath.mkdir(parents=True, exist_ok=True)  \n",
        "\n",
        "# Bounding box coordinates\n",
        "left   = 76.88\n",
        "right  = 77.65\n",
        "bottom = 31.66\n",
        "top    = 32.12\n",
        "\n",
        "a = [[\"2019-01-07\",150],]\n",
        "\n",
        "df_beams = []\n",
        "oa_plots = []\n",
        "complete_dataset = []\n",
        "\n",
        "# This function will request the 6 tracks using OpenAltimetry's API\n",
        "def getData(url):\n",
        "    series = []\n",
        "    b_url = url\n",
        "\n",
        "    print('Requesting data from OA >>> ',b_url)\n",
        "    r = requests.get(b_url)\n",
        "    data = r.json()\n",
        "    return data\n",
        "\n",
        "\n",
        "b =[]\n",
        "for i in range(len(a)):\n",
        "    OA_API_URL = 'https://openaltimetry.org/data/api/icesat2/atl03?date='+a[i][0]+'&minx='+str(left)+'&miny='+str(bottom)+'&maxx='+str(right)+'&maxy='+str(top)+'&trackId='+str(a[i][1])+'&beamName=gt3r&beamName=gt3l&beamName=gt2r&beamName=gt2l&beamName=gt1r&beamName=gt1l&sampling=false&outputFormat=json'\n",
        "    OA_API_URL += '&client=jupyter';\n",
        "    b.append(getData(OA_API_URL))\n",
        "\n",
        "OA_BEAMS = ['Noise', 'Buffer', 'Low', 'Medium', 'High']\n",
        "df_beams = []\n",
        "\n",
        "for elevation_data in b[0]:\n",
        "    product = elevation_data['beam_name']\n",
        "\n",
        "    print('\\n Reading data product: ' + product)\n",
        "    for series_beam in elevation_data['series']:\n",
        "        if any(word in series_beam['name'] for word in OA_BEAMS):\n",
        "            series = []\n",
        "\n",
        "            data_name = 'data'\n",
        "\n",
        "            for p in series_beam[data_name]:\n",
        "                series.append({\n",
        "                    'lat': p[0],\n",
        "                    'lon': p[1],\n",
        "                    'h': p[2]\n",
        "                })\n",
        "\n",
        "            print ('beam ' + series_beam['name'] + ' - len = ' + str(len(series)))\n",
        "\n",
        "            if (len(series) > 0):\n",
        "                df = pd.DataFrame.from_dict(series)\n",
        "                print(len(df))\n",
        "                df = df[(df.lon >= left) & (df.lon <= right) & (df.lat >= bottom) & (df.lat <= top)]\n",
        "                print(len(df))\n",
        "                df.name = series_beam['name']\n",
        "                df_beams.append(df) \n",
        "\n",
        "    print('df_beams len: ' + str(len(df_beams)))\n",
        "\n",
        "    # Save each data product to a separate CSV file\n",
        "    for df in df_beams:\n",
        "        product_name = product.replace(' ', '_')\n",
        "        file_name = f'{filepath}/{product_name}_{df.name}.csv'\n",
        "        df.to_csv(file_name, index=False)\n",
        "\n",
        "    # Save noise data to a separate CSV file\n",
        "    noise_df = pd.concat([df for df in df_beams if 'Noise' in df.name])\n",
        "    if len(noise_df) > 0:\n",
        "        noise_file_name = f'{filepath}/Noise.csv'\n",
        "        noise_df.to_csv(noise_file_name, index=False)\n",
        "\n",
        "# Combine all data products into a single CSV file\n",
        "pd.concat(df_beams).to_csv(f'{filepath}/all_products.csv', index=False)\n"
      ],
      "metadata": {
        "id": "lYOAeQ04OVXl"
      },
      "execution_count": null,
      "outputs": []
    },
    {
      "cell_type": "code",
      "source": [
        "!ls /content/ALT03_2019_FEB"
      ],
      "metadata": {
        "id": "kATJX_GaO1NC"
      },
      "execution_count": null,
      "outputs": []
    },
    {
      "cell_type": "code",
      "source": [
        "!pip install rasterio\n",
        "!pip install pyproj"
      ],
      "metadata": {
        "id": "OsgxmtPKQVgV"
      },
      "execution_count": null,
      "outputs": []
    },
    {
      "cell_type": "markdown",
      "source": [
        "**pllots all the files in the folder together**"
      ],
      "metadata": {
        "id": "CjWkAljQdTK4"
      }
    },
    {
      "cell_type": "code",
      "source": [
        "import os\n",
        "import pandas as pd\n",
        "import rasterio\n",
        "import matplotlib.pyplot as plt\n",
        "from pyproj import Proj, transform\n",
        "\n",
        "# Define the coordinate reference systems for lat/long and UTM\n",
        "in_proj = Proj('epsg:4326')  # WGS84 lat/long\n",
        "out_proj = Proj('epsg:32644')  # UTM zone 44N\n",
        "\n",
        "# Set colors for each file\n",
        "colors = {\n",
        "    'Noise': 'red',\n",
        "    'Buffer': 'orange',\n",
        "    'Low': 'yellow',\n",
        "    'Medium': 'green',\n",
        "    'High': 'blue'\n",
        "}\n",
        "\n",
        "# Loop through each file in the folder\n",
        "folder = '/content/ALT03_2019_FEB'\n",
        "fig, ax = plt.subplots()\n",
        "for filename in os.listdir(folder):\n",
        "    if filename.endswith('.csv'):\n",
        "        # Read the CSV file and extract lat/long values\n",
        "        df = pd.read_csv(os.path.join(folder, filename))\n",
        "        lats = df['lat'].tolist()\n",
        "        longs = df['lon'].tolist()\n",
        "\n",
        "        # Convert lat/long coordinates to UTM coordinates (easting, northing)\n",
        "        easting, northing = transform(in_proj, out_proj, longs, lats)\n",
        "\n",
        "        # Load the DEM data and extract the elevation values along the section\n",
        "        with rasterio.open('/content/ASTER_DEM.tif') as src:\n",
        "            elevations = [x[0] for x in src.sample(zip(longs, lats))]\n",
        "\n",
        "        # Set the color for the file based on its name\n",
        "        color = None\n",
        "        for c in colors:\n",
        "            if c in filename:\n",
        "                color = colors[c]\n",
        "                break\n",
        "\n",
        "        # Plot the elevation vs distance\n",
        "        ax.plot(easting, elevations, label=filename, color=color)\n",
        "\n",
        "# Set the axis labels and legend\n",
        "ax.set_xlabel('Distance (m)')\n",
        "ax.set_ylabel('Elevation (m)')\n",
        "ax.legend()\n",
        "\n",
        "plt.show()\n"
      ],
      "metadata": {
        "id": "X-3pv4SYQP2p"
      },
      "execution_count": null,
      "outputs": []
    },
    {
      "cell_type": "markdown",
      "source": [
        "**pllots as per product data all the files in the folder together**"
      ],
      "metadata": {
        "id": "WS0WJlq9dnXB"
      }
    },
    {
      "cell_type": "code",
      "source": [
        "import os\n",
        "import pandas as pd\n",
        "import rasterio\n",
        "import matplotlib.pyplot as plt\n",
        "from pyproj import Proj, transform\n",
        "\n",
        "# Define the coordinate reference systems for lat/long and UTM\n",
        "in_proj = Proj('epsg:4326')  # WGS84 lat/long\n",
        "out_proj = Proj('epsg:32644')  # UTM zone 44N\n",
        "\n",
        "# Set colors for each suffix\n",
        "colors = {\n",
        "    'Noise': 'red',\n",
        "    'Buffer': 'orange',\n",
        "    'Low': 'yellow',\n",
        "    'Medium': 'green',\n",
        "    'High': 'blue'\n",
        "}\n",
        "\n",
        "# Set the prefixes and suffixes to iterate over\n",
        "prefixes = ['gt3r', 'gt3l', 'gt2r', 'gt2l', 'gt1r', 'gt1l']\n",
        "suffixes = ['Noise', 'Buffer', 'Low', 'Medium', 'High']\n",
        "\n",
        "# Create a 3x2 grid of subplots\n",
        "fig, axes = plt.subplots(nrows=3, ncols=2, figsize=(24, 6))\n",
        "\n",
        "# Loop through each prefix and create a new plot for each one\n",
        "for i, prefix in enumerate(prefixes):\n",
        "    ax = axes[i//2, i%2]\n",
        "    ax.set_title(f'{prefix}')\n",
        "\n",
        "    # Loop through each suffix and plot the elevation vs distance for the current prefix\n",
        "    for j, suffix in enumerate(suffixes):\n",
        "        # Find all files with the current prefix and suffix\n",
        "        files = [f for f in os.listdir('/content/ALT03_2019_FEB') if f.startswith(prefix) and f.endswith(suffix+'.csv')]\n",
        "        if len(files) > 0:\n",
        "            # Loop through each file and plot the elevation vs distance\n",
        "            for filename in files:\n",
        "                # Read the CSV file and extract lat/long values\n",
        "                df = pd.read_csv(os.path.join('/content/ALT03_2019_FEB', filename))\n",
        "                lats = df['lat'].tolist()\n",
        "                longs = df['lon'].tolist()\n",
        "\n",
        "                # Convert lat/long coordinates to UTM coordinates (easting, northing)\n",
        "                easting, northing = transform(in_proj, out_proj, longs, lats)\n",
        "\n",
        "                # Load the DEM data and extract the elevation values along the section\n",
        "                with rasterio.open('/content/ASTER_DEM.tif') as src:\n",
        "                    elevations = [x[0] for x in src.sample(zip(longs, lats))]\n",
        "\n",
        "                # Set the color for the file based on its suffix\n",
        "                color = colors[suffix]\n",
        "\n",
        "                # Plot the elevation vs distance\n",
        "                ax.scatter(easting, elevations, label=filename, color=color, s=5)\n",
        "\n",
        "    # Set the axis labels and legend for the current prefix\n",
        "    ax.set_xlabel('Easting (m)')\n",
        "    ax.set_ylabel('Elevation (m)')\n",
        "    handles, labels = ax.get_legend_handles_labels()\n",
        "    ax.legend(handles, labels, loc='upper left')\n",
        "\n",
        "# Set the main title for the chart\n",
        "fig.suptitle('Elevation vs Distance for Each Prefix and Suffix', fontsize=16)\n",
        "\n",
        "plt.show()\n"
      ],
      "metadata": {
        "id": "y30KQB5Miacf"
      },
      "execution_count": null,
      "outputs": []
    },
    {
      "cell_type": "code",
      "source": [
        "#@title **compressed code 1 plotting only points on DEM where the signals have been taken**\n",
        "import os\n",
        "import pandas as pd\n",
        "import rasterio\n",
        "import matplotlib.pyplot as plt\n",
        "from pyproj import Proj, transform\n",
        "import random\n",
        "\n",
        "in_proj, out_proj = Proj('epsg:4326'), Proj('epsg:32644')\n",
        "suffixes = ['Noise', 'Buffer', 'Low', 'Medium', 'High']\n",
        "prefixes = ['gt3r', 'gt3l', 'gt2r', 'gt2l', 'gt1r', 'gt1l']\n",
        "fig, axes = plt.subplots(nrows=3, ncols=2, figsize=(24, 6))\n",
        "\n",
        "for i, prefix in enumerate(prefixes):\n",
        "    ax = axes[i//2, i%2]\n",
        "    ax.set_title(f'{prefix}')\n",
        "    prefix_color = \"#{:06x}\".format(random.randint(0, 0xFFFFFF))\n",
        "    for j, suffix in enumerate(suffixes):\n",
        "        files = [f for f in os.listdir('/content/ALT03_2019_FEB') if f.startswith(prefix) and f.endswith(suffix+'.csv')]\n",
        "        if len(files) > 0:\n",
        "            for filename in files:\n",
        "                df = pd.read_csv(os.path.join('/content/ALT03_2019_FEB', filename))\n",
        "                lats, longs = df['lat'].tolist(), df['lon'].tolist()\n",
        "                easting, northing = transform(in_proj, out_proj, longs, lats)\n",
        "                elevations = [x[0] for x in rasterio.open('/content/ASTER_DEM.tif').sample(zip(longs, lats))]\n",
        "                ax.scatter(easting, elevations, label=filename, color=colors.get(suffix, prefix_color), s=5)\n",
        "\n",
        "    ax.set_xlabel('Easting (m)')\n",
        "    ax.set_ylabel('Elevation (m)')\n",
        "    handles, labels = ax.get_legend_handles_labels()\n",
        "    ax.legend(handles, labels, loc='upper left')\n",
        "\n",
        "fig.suptitle('Elevation vs Distance for Each Prefix and Suffix', fontsize=16)\n",
        "plt.show()\n"
      ],
      "metadata": {
        "id": "2WoUqbqRkrVO"
      },
      "execution_count": null,
      "outputs": []
    },
    {
      "cell_type": "markdown",
      "source": [
        "for earth engine \n",
        "\n",
        "# track 447 >>> 2019-01-26\n",
        "\n",
        "var dataset = ee.ImageCollection('LANDSAT/LC08/C02/T1_RT')\n",
        "                  .filterDate('2019-01-29', '2019-01-30');\n",
        "var trueColor432 = dataset.select(['B4', 'B3', 'B2']);\n",
        "var trueColor432Vis = {\n",
        "  min: 0.0,\n",
        "  max: 30000.0,\n",
        "};\n",
        "Map.setCenter( 77.27133090052784, 32.16390385368123, 10);\n",
        "Map.addLayer(trueColor432, trueColor432Vis, 'True Color (432)');\n",
        "\n",
        "track 447 >>> 2019-04-27\n",
        "\n",
        "var dataset = ee.ImageCollection('LANDSAT/LC08/C02/T1_RT')\n",
        "                  .filterDate('2019-01-29', '2019-01-30');\n",
        "var trueColor432 = dataset.select(['B4', 'B3', 'B2']);\n",
        "var trueColor432Vis = {\n",
        "  min: 0.0,\n",
        "  max: 30000.0,\n",
        "};\n",
        "Map.setCenter( 77.27133090052784, 32.16390385368123, 10);\n",
        "Map.addLayer(trueColor432, trueColor432Vis, 'True Color (432)');\n",
        "\n",
        "\n",
        "\n",
        "# code for 447 >>> 2019-04-27\n",
        "/**\n",
        " * Function to mask clouds using the Sentinel-2 QA band\n",
        " * @param {ee.Image} image Sentinel-2 image\n",
        " * @return {ee.Image} cloud masked Sentinel-2 image\n",
        " */\n",
        "function maskS2clouds(image) {\n",
        "  var qa = image.select('QA60');\n",
        "\n",
        "  // Bits 10 and 11 are clouds and cirrus, respectively.\n",
        "  var cloudBitMask = 1 << 10;\n",
        "  var cirrusBitMask = 1 << 11;\n",
        "\n",
        "  // Both flags should be set to zero, indicating clear conditions.\n",
        "  var mask = qa.bitwiseAnd(cloudBitMask).eq(0)\n",
        "      .and(qa.bitwiseAnd(cirrusBitMask).eq(0));\n",
        "\n",
        "  return image.updateMask(mask).divide(10000);\n",
        "}\n",
        "\n",
        "var dataset = ee.ImageCollection('COPERNICUS/S2_SR_HARMONIZED')\n",
        "                  .filterDate('2019-04-24', '2019-04-26')\n",
        "                  // Pre-filter to get less cloudy granules.\n",
        "                  .filter(ee.Filter.lt('CLOUDY_PIXEL_PERCENTAGE',40))\n",
        "                  .map(maskS2clouds);\n",
        "\n",
        "var visualization = {\n",
        "  min: 0.0,\n",
        "  max: 0.3,\n",
        "  bands: ['B5', 'B9', 'B11'],\n",
        "};\n",
        "\n",
        "Map.setCenter( 77.27133090052784, 32.16390385368123, 13);\n",
        "\n",
        "Map.addLayer(dataset.mean(), visualization, 'RGB');\n"
      ],
      "metadata": {
        "id": "2I5DngZBzhe3"
      }
    },
    {
      "cell_type": "code",
      "source": [
        "#@title **compressed version 2 plotting the signals only**\n",
        "import os\n",
        "import pandas as pd\n",
        "import matplotlib.pyplot as plt\n",
        "from pyproj import Proj, transform\n",
        "import random\n",
        "\n",
        "in_proj, out_proj = Proj('epsg:4326'), Proj('epsg:32644')\n",
        "suffixes = ['Noise', 'Buffer', 'Low', 'Medium', 'High']\n",
        "prefixes = ['gt3r', 'gt3l', 'gt2r', 'gt2l', 'gt1r', 'gt1l']\n",
        "fig, axes = plt.subplots(nrows=3, ncols=2, figsize=(24, 6))\n",
        "\n",
        "for i, prefix in enumerate(prefixes):\n",
        "    ax = axes[i//2, i%2]\n",
        "    ax.set_title(f'{prefix}')\n",
        "    prefix_color = \"#{:06x}\".format(random.randint(0, 0xFFFFFF))\n",
        "    for j, suffix in enumerate(suffixes):\n",
        "        files = [f for f in os.listdir('/content/ALT03_2019_FEB') if f.startswith(prefix) and f.endswith(suffix+'.csv')]\n",
        "        if len(files) > 0:\n",
        "            for filename in files:\n",
        "                df = pd.read_csv(os.path.join('/content/ALT03_2019_FEB', filename))\n",
        "                lats, longs, elevations = df['lat'].tolist(), df['lon'].tolist(), df['h'].tolist()\n",
        "                easting, northing = transform(in_proj, out_proj, longs, lats)\n",
        "                ax.scatter(easting, elevations, label=filename, color=prefix_color, s=5)\n",
        "\n",
        "    ax.set_xlabel('Easting (m)')\n",
        "    ax.set_ylabel('Elevation (m)')\n",
        "    handles, labels = ax.get_legend_handles_labels()\n",
        "    ax.legend(handles, labels, loc='upper left')\n",
        "\n",
        "fig.suptitle('Elevation vs Distance for Each Prefix and Suffix', fontsize=16)\n",
        "plt.show()\n"
      ],
      "metadata": {
        "id": "fmIwkSTEnwWP"
      },
      "execution_count": null,
      "outputs": []
    },
    {
      "cell_type": "code",
      "source": [
        "import os\n",
        "import pandas as pd\n",
        "import rasterio\n",
        "import matplotlib.pyplot as plt\n",
        "from pyproj import Proj, transform\n",
        "import random\n",
        "\n",
        "in_proj, out_proj = Proj('epsg:4326'), Proj('epsg:32644')\n",
        "suffixes = ['Noise', 'Buffer', 'Low', 'Medium', 'High']\n",
        "prefixes = ['gt3r', 'gt3l', 'gt2r', 'gt2l', 'gt1r', 'gt1l']\n",
        "\n",
        "# Set up figure with 3 rows and 2 columns\n",
        "fig, axes = plt.subplots(nrows=3, ncols=2, figsize=(24, 18))\n",
        "\n",
        "# Loop through each prefix and suffix\n",
        "for i, prefix in enumerate(prefixes):\n",
        "    ax = axes[i//2, i%2]\n",
        "    ax.set_title(f'{prefix}')\n",
        "    prefix_color = \"#{:06x}\".format(random.randint(0, 0xFFFFFF))\n",
        "\n",
        "    for j, suffix in enumerate(suffixes):\n",
        "        files = [f for f in os.listdir('/content/ALT03_2019_FEB') if f.startswith(prefix) and f.endswith(suffix+'.csv')]\n",
        "        if len(files) > 0:\n",
        "            for filename in files:\n",
        "                df = pd.read_csv(os.path.join('/content/ALT03_2019_FEB', filename))\n",
        "                lats, longs = df['lat'].tolist(), df['lon'].tolist()\n",
        "                easting, northing = transform(in_proj, out_proj, longs, lats)\n",
        "\n",
        "                # Load DEM data\n",
        "                dem = rasterio.open('/content/ASTER_DEM.tif')\n",
        "\n",
        "                # Plot lat/lon points and set alpha to 0.5 for visibility of DEM underneath\n",
        "                ax.scatter(longs, lats, label=suffix, color=prefix_color, s=5, alpha=0.5)\n",
        "\n",
        "                # Add DEM to the plot as background with a color bar\n",
        "                dem_array = dem.read(1)\n",
        "                ax.imshow(dem_array, cmap='terrain', extent=(dem.bounds.left, dem.bounds.right, dem.bounds.bottom, dem.bounds.top))\n",
        "                cbar = plt.colorbar(ax.images[-1], ax=ax, fraction=0.046, pad=0.04)\n",
        "                cbar.set_label('Elevation (m)')\n",
        "\n",
        "    ax.set_xlabel('Longitude')\n",
        "    ax.set_ylabel('Latitude')\n",
        "\n",
        "# Add legend to the plot\n",
        "handles, labels = ax.get_legend_handles_labels()\n",
        "fig.legend(handles, labels, loc='upper left', bbox_to_anchor=(0.5, 1.02), ncol=len(suffixes))\n",
        "\n",
        "# Set the main title\n",
        "fig.suptitle('Latitude vs Longitude for Each Prefix and Suffix', fontsize=16)\n",
        "\n",
        "# Adjust the spacing between subplots\n",
        "fig.subplots_adjust(hspace=0.25)\n",
        "\n",
        "# Show the plot\n",
        "plt.show()\n"
      ],
      "metadata": {
        "id": "BxKIUiKA5zmE"
      },
      "execution_count": null,
      "outputs": []
    },
    {
      "cell_type": "code",
      "source": [
        "import os\n",
        "import pandas as pd\n",
        "import rasterio\n",
        "import matplotlib.pyplot as plt\n",
        "from pyproj import Proj, transform\n",
        "\n",
        "in_proj, out_proj = Proj('epsg:4326'), Proj('epsg:32644')\n",
        "suffixes = ['Noise', 'Buffer', 'Low', 'Medium', 'High']\n",
        "prefixes = ['gt3r', 'gt3l', 'gt2r', 'gt2l', 'gt1r', 'gt1l']\n",
        "\n",
        "fontS = 12\n",
        "\n",
        "fig, axes = plt.subplots(nrows=3, ncols=2, figsize=(4, 24))\n",
        "fig.subplots_adjust(hspace=0.3)\n",
        "\n",
        "all_dem_data = []\n",
        "for i, prefix in enumerate(prefixes):\n",
        "    ax = axes[i//2, i%2]\n",
        "    ax.set_title(f'{prefix}')\n",
        "    prefix_color = \"#{:06x}\".format(random.randint(0, 0xFFFFFF))\n",
        "    \n",
        "    for j, suffix in enumerate(suffixes):\n",
        "        files = [f for f in os.listdir('/content/ALT03_2019_FEB') if f.startswith(prefix) and f.endswith(suffix+'.csv')]\n",
        "        if len(files) > 0:\n",
        "            for filename in files:\n",
        "                df = pd.read_csv(os.path.join('/content/ALT03_2019_FEB', filename))\n",
        "                lats, longs = df['lat'].tolist(), df['lon'].tolist()\n",
        "                easting, northing = transform(in_proj, out_proj, longs, lats)\n",
        "                dem_data = list(rasterio.open('/content/ASTER_DEM.tif').sample(zip(longs, lats)))\n",
        "                all_dem_data.extend(dem_data)\n",
        "\n",
        "                ax.scatter(longs, lats, label=suffix, color=prefix_color, s=5, zorder=10)\n",
        "\n",
        "    ax.set_xlabel('Longitude', fontsize = int(fontS * 1.1))\n",
        "    ax.set_ylabel('Latitude', fontsize = int(fontS * 1.1))\n",
        "    ax.invert_xaxis()\n",
        "    ax.set_aspect('equal')\n",
        "\n",
        "# calculate min and max values for color bar\n",
        "vmin = min(all_dem_data)[0]\n",
        "vmax = max(all_dem_data)[0]\n",
        "\n",
        "# create a single color bar\n",
        "norm = plt.Normalize(vmin=vmin, vmax=vmax)\n",
        "sm = plt.cm.ScalarMappable(cmap='viridis', norm=norm)\n",
        "sm.set_array([])\n",
        "\n",
        "# add color bar to the figure\n",
        "cbar_ax = fig.add_axes([0.92, 0.1, 0.02, 0.8])\n",
        "fig.colorbar(sm, cax=cbar_ax)\n",
        "\n",
        "# Adjust the position and size of the colorbar axis based on the height of the grid of plots\n",
        "fig.subplots_adjust(right=0.9)  # Make space for the colorbar axis\n",
        "fig.subplots_adjust(hspace=0.5)  # Adjust the height of the grid of plots\n",
        "cbar_ax.yaxis.set_ticks_position('right')\n",
        "cbar_ax.yaxis.set_label_position('right')\n",
        "cbar_ax.spines['left'].set_position(('outward', 10))\n",
        "cbar_ax.set_ylabel('Elevation (m)', fontsize = int(fontS * 1.1))\n",
        "\n",
        "fig.suptitle('Latitude vs Longitude for Each Prefix and Suffix', fontsize= int(fontS * 1.5), y = 0.99)\n",
        "plt.tight_layout()\n",
        "\n",
        "plt.show()\n"
      ],
      "metadata": {
        "id": "BokTDCUZCT-x"
      },
      "execution_count": null,
      "outputs": []
    },
    {
      "cell_type": "code",
      "source": [
        "from osgeo import gdal\n",
        "import numpy as np\n",
        "import matplotlib.pyplot as plt\n",
        "\n",
        "# Open the DEM file in WGS84 projection\n",
        "src = gdal.Open('/content/ASTER_DEM.tif')\n",
        "\n",
        "# Define the target CRS\n",
        "dst_crs = 'EPSG:32644'\n",
        "\n",
        "# Reproject the DEM to the target CRS\n",
        "dst = gdal.Warp('/content/ASTER_DEM_proj.tif', src, dstSRS=dst_crs)\n",
        "\n",
        "# Open the reprojected DEM file\n",
        "dst = gdal.Open('/content/ASTER_DEM_proj.tif')\n",
        "dem_proj = dst.GetRasterBand(1).ReadAsArray()\n",
        "\n",
        "# Get the geotransform and pixel size of the reprojected DEM\n",
        "transform = dst.GetGeoTransform()\n",
        "pixel_size = abs(transform[1])\n",
        "\n",
        "# Define the extent of the reprojected DEM\n",
        "x_min = transform[0]\n",
        "x_max = x_min + (dst.RasterXSize * pixel_size)\n",
        "y_max = transform[3]\n",
        "y_min = y_max - (dst.RasterYSize * pixel_size)\n",
        "extent = [x_min, x_max, y_min, y_max]\n",
        "\n",
        "# Plot the reprojected DEM\n",
        "fig, ax = plt.subplots(figsize=(8, 8))\n",
        "im = ax.imshow(dem_proj, cmap='terrain', extent=extent)\n",
        "plt.colorbar(im, ax=ax)\n",
        "ax.set_title('Reprojected DEM')\n",
        "plt.show()\n"
      ],
      "metadata": {
        "colab": {
          "base_uri": "https://localhost:8080/",
          "height": 668
        },
        "id": "MpIqhZDmG-1F",
        "outputId": "6c82b825-7670-443d-e69c-e6eb63988299"
      },
      "execution_count": 73,
      "outputs": [
        {
          "output_type": "display_data",
          "data": {
            "text/plain": [
              "<Figure size 800x800 with 2 Axes>"
            ],
            "image/png": "[encoded data removed]"
          },
          "metadata": {}
        }
      ]
    },
    {
      "cell_type": "code",
      "source": [
        "import pandas as pd\n",
        "import rasterio\n",
        "import matplotlib.pyplot as plt\n",
        "import pyproj\n",
        "\n",
        "# Read the CSV file\n",
        "df = pd.read_csv('/content/ALT03_2019_FEB/all_products.csv')\n",
        "\n",
        "# Extract the lat/long values\n",
        "lats = df['lat'].tolist()\n",
        "longs = df['lon'].tolist()\n",
        "\n",
        "# Define the projection\n",
        "utm_proj = pyproj.Proj(src.crs)\n",
        "\n",
        "# Convert longitude and latitude to UTM coordinates\n",
        "x_coords, y_coords = utm_proj(longs, lats)\n",
        "\n",
        "# Load the DEM data\n",
        "with rasterio.open('/content/ASTER_DEM.tif') as src:\n",
        "    # Extract the elevation values along the section\n",
        "    elevations = [x[0] for x in src.sample(zip(longs, lats))]\n",
        "    # print(elevations)\n",
        "\n",
        "# Create a plot of elevation vs longitude\n",
        "fig, ax = plt.subplots()\n",
        "ax.scatter(x_coords, elevations)\n",
        "ax.set_xlabel('X Coordinates (m)')\n",
        "ax.set_ylabel('Elevation')\n",
        "plt.show()\n"
      ],
      "metadata": {
        "id": "VxiAJ2XelR-S"
      },
      "execution_count": null,
      "outputs": []
    },
    {
      "cell_type": "markdown",
      "source": [
        "**old test code for downloading and plotting takes 150 seconds**"
      ],
      "metadata": {
        "id": "KGm1jKK5YA7A"
      }
    },
    {
      "cell_type": "code",
      "source": [
        "\n",
        "# Bounding box coordinates\n",
        "left   = 88.35513990355201\n",
        "right  = 88.81001588984735\n",
        "bottom = 26.655967429562793\n",
        "top    = 26.903377690511324\n",
        "\n",
        "dates = [\n",
        "[\"2020-01-11\",241],\n",
        "[\"2021-10-08\",241],\n",
        "[\"2022-10-06\",241],\n",
        "[\"2019-03-27\",1361],\n",
        "        ]\n",
        "signals = ['gt3r', 'gt3l', 'gt2r', 'gt2l', 'gt1r', 'gt1l']\n",
        "\n",
        "fig, aox = plt.subplots(nrows= len(signals), ncols= len(dates), figsize=[20*len(dates),20])\n",
        "\n",
        "\n",
        "import time\n",
        "t0 = time.time()\n",
        "\n",
        "for date in dates:\n",
        "  print(date)\n",
        "  OA_API_URL = 'https://openaltimetry.org/data/api/icesat2/atl03?date='+date[0]+'&minx='+str(left)+'&miny='+str(bottom)+'&maxx='+str(right)+'&maxy='+str(top)+'&trackId='+str(date[1])+'&beamName=gt3r&beamName=gt3l&beamName=gt2r&beamName=gt2l&beamName=gt1r&beamName=gt1l&outputFormat=json'\n",
        "\n",
        "  # OA_API_URL += '&client=jupyter';\n",
        "\n",
        "\n",
        "\n",
        "  for i in signals:\n",
        "    print(i)\n",
        "    # is2data = dataCollector(oaurl=OA_API_URL,beam=i, verbose=True)\n",
        "    # is2data.requestData(verbose=True)\n",
        "    myplot, mydata = plot_from_oa_url(url=OA_API_URL, gtx=i, ax=aox[signals.index(i),dates.index(date)], title='Directly mapping')\n",
        "\n",
        "\n",
        "from google.colab import output\n",
        "output.clear()\n",
        "print(time.time() - t0,\" << seconds completion time ✅ \")"
      ],
      "metadata": {
        "id": "d1qJtXXxAai0"
      },
      "execution_count": null,
      "outputs": []
    },
    {
      "cell_type": "code",
      "source": [
        "# Bounding box coordinates\n",
        "left   = 88.43\n",
        "right  = 88.70\n",
        "bottom = 26.66\n",
        "top    = 26.83\n",
        "\n",
        "date = [\n",
        "[\"2020-01-11\",214],\n",
        "        ]\n",
        "\n",
        "signals = ['gt3r', 'gt3l', 'gt2r', 'gt2l', 'gt1r', 'gt1l']\n",
        "\n",
        "\n",
        "OA_API_URL = 'https://openaltimetry.org/data/api/icesat2/atl03?date='+date[0][0]+'&minx='+str(left)+'&miny='+str(bottom)+'&maxx='+str(right)+'&maxy='+str(top)+'&trackId='+str(date[0][1])+'&beamName=gt3r&beamName=gt3l&beamName=gt2r&beamName=gt2l&beamName=gt1r&beamName=gt1l&outputFormat=json'\n",
        "\n",
        "# OA_API_URL += '&client=jupyter';\n",
        "# is2data = dataCollector(oaurl=OA_API_URL,beam=gtx, verbose=True)\n",
        "# is2data.requestData(verbose=True)\n",
        "myplot, mydata = plot_from_oa_url(url=OA_API_URL, gtx=signals[5], title='Directly mapping')"
      ],
      "metadata": {
        "id": "zm7Y5CNgH0um"
      },
      "execution_count": null,
      "outputs": []
    },
    {
      "cell_type": "code",
      "source": [
        "# create the figure and axis\n",
        "fig, ax = plt.subplots(figsize=[10,4])\n",
        "atl06, = ax.plot(is2data.atl06.lat, is2data.atl06.h, label='ATL06')\n",
        "atl08, = ax.plot(is2data.atl08.lat, is2data.atl08.h, label='ATL08', linestyle='--')\n",
        "atl03 = ax.scatter(is2data.atl03.lat, is2data.atl03.h, s=1, color='black', label='ATL03')\n",
        "\n",
        "ax.set_xlim((bottom, top))\n",
        "ax.set_ylim((left, right))\n",
        "\n",
        "ax.set_xlabel('latitude')\n",
        "ax.set_ylabel('elevation in meters')\n",
        "ax.set_title('Some ICESat-2 data I found on OpenAltimetry!')\n",
        "\n",
        "ax.legend(loc='lower right')\n",
        "\n",
        "# add some text to provide info on what is plotted\n",
        "info = 'ICESat-2 track {track:d}-{beam:s} on {date:s}\\n({lon:.4f}E, {lat:.4f}N)'.format(track=is2data.track, \n",
        "                                                                                        beam=is2data.beam, \n",
        "                                                                                        date=is2data.date, \n",
        "                                                                                        lon=np.mean(is2data.lonlims), \n",
        "                                                                                        lat=np.mean(is2data.latlims))\n",
        "infotext = ax.text(0.01, 0.03, info,\n",
        "                   horizontalalignment='left', \n",
        "                   verticalalignment='bottom', \n",
        "                   transform=ax.transAxes,\n",
        "                   bbox=dict(edgecolor=None, facecolor='white', alpha=0.9, linewidth=0))"
      ],
      "metadata": {
        "id": "cGFciZ4Yu_RP"
      },
      "execution_count": null,
      "outputs": []
    },
    {
      "cell_type": "code",
      "source": [
        "url = 'http://openaltimetry.org/data/api/icesat2/atl03?date=2020-01-16&minx=12.107692195781404&miny=-70.34956862465471&maxx=12.426364789894341&maxy=-70.2449105354736&trackId=312&beamName=gt3r&beamName=gt3l&beamName=gt2r&beamName=gt2l&beamName=gt1r&beamName=gt1l&outputFormat=json'\n",
        "gtx = 'gt2r'\n",
        "myplot, mydata = plot_from_oa_url(url=OA_API_URL, gtx=gtx, title='Directly mapping')"
      ],
      "metadata": {
        "id": "Nokr2PTwvNEz"
      },
      "execution_count": null,
      "outputs": []
    },
    {
      "cell_type": "code",
      "source": [
        "def dist_latlon2meters(lat1, lon1, lat2, lon2):\n",
        "    # returns the distance between two coordinate points - (lon1, lat1) and (lon2, lat2) along the earth's surface in meters.\n",
        "    R = 6371000\n",
        "    def deg2rad(deg):\n",
        "        return deg * (np.pi/180)\n",
        "    dlat = deg2rad(lat2-lat1)\n",
        "    dlon = deg2rad(lon2-lon1)\n",
        "    a = np.sin(dlat/2) * np.sin(dlat/2) + np.cos(deg2rad(lat1)) * np.cos(deg2rad(lat2)) * np.sin(dlon/2) * np.sin(dlon/2)\n",
        "    c = 2 * np.arctan2(np.sqrt(a), np.sqrt(1-a))\n",
        "    return R * c\n",
        "\n",
        "lat1, lat2 = mydata.atl08.lat[0], mydata.atl08.lat.iloc[-1]\n",
        "lon1, lon2 = mydata.atl08.lon[0], mydata.atl08.lon.iloc[-1]\n",
        "\n",
        "ground_track_length = dist_latlon2meters(lat1, lon1, lat2, lon2)\n",
        "print('The ground track is about %.1f kilometers long.' % (ground_track_length/1e3))"
      ],
      "metadata": {
        "id": "HX7HaPlUvQFP"
      },
      "execution_count": null,
      "outputs": []
    }
  ]
}